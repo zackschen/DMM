{
 "cells": [
  {
   "cell_type": "code",
   "execution_count": 31,
   "metadata": {},
   "outputs": [
    {
     "name": "stdout",
     "output_type": "stream",
     "text": [
      "[1, 3, 4]\n",
      "[4, 3, 1]\n",
      "OrderedDict([(u'43172', {u'loss': 0.39397305250167847, u'id': {u'sent_id': 43172, u'ref_id': 15173}}), (u'80694', {u'loss': 0.3704141080379486, u'id': {u'sent_id': 80694, u'ref_id': 28373}}), (u'64019', {u'loss': 0.3573246896266937, u'id': {u'sent_id': 64019, u'ref_id': 22509}}), (u'123848', {u'loss': 0.34121596813201904, u'id': {u'sent_id': 123848, u'ref_id': 43562}}), (u'125700', {u'loss': 0.33914828300476074, u'id': {u'sent_id': 125700, u'ref_id': 44210}}), (u'117008', {u'loss': 0.32439932227134705, u'id': {u'sent_id': 117008, u'ref_id': 41156}}), (u'16381', {u'loss': 0.3227013647556305, u'id': {u'sent_id': 16381, u'ref_id': 5755}}), (u'123458', {u'loss': 0.31960752606391907, u'id': {u'sent_id': 123458, u'ref_id': 43425}}), (u'123751', {u'loss': 0.30082228779792786, u'id': {u'sent_id': 123751, u'ref_id': 43529}}), (u'48618', {u'loss': 0.2955544590950012, u'id': {u'sent_id': 48618, u'ref_id': 17087}}), (u'94205', {u'loss': 0.2892964780330658, u'id': {u'sent_id': 94205, u'ref_id': 33131}}), (u'64303', {u'loss': 0.2878686785697937, u'id': {u'sent_id': 64303, u'ref_id': 22609}}), (u'124050', {u'loss': 0.2818794846534729, u'id': {u'sent_id': 124050, u'ref_id': 43633}}), (u'89671', {u'loss': 0.28171446919441223, u'id': {u'sent_id': 89671, u'ref_id': 31531}}), (u'30827', {u'loss': 0.27809715270996094, u'id': {u'sent_id': 30827, u'ref_id': 10821}}), (u'113112', {u'loss': 0.2549591362476349, u'id': {u'sent_id': 113112, u'ref_id': 39782}}), (u'90750', {u'loss': 0.2548515200614929, u'id': {u'sent_id': 90750, u'ref_id': 31914}}), (u'124109', {u'loss': 0.25313428044319153, u'id': {u'sent_id': 124109, u'ref_id': 43653}}), (u'108111', {u'loss': 0.2524622976779938, u'id': {u'sent_id': 108111, u'ref_id': 38020}}), (u'95226', {u'loss': 0.2466645985841751, u'id': {u'sent_id': 95226, u'ref_id': 33487}}), (u'61411', {u'loss': 0.24503138661384583, u'id': {u'sent_id': 61411, u'ref_id': 21589}}), (u'30895', {u'loss': 0.2443113923072815, u'id': {u'sent_id': 30895, u'ref_id': 10845}}), (u'93584', {u'loss': 0.2441398948431015, u'id': {u'sent_id': 93584, u'ref_id': 32913}}), (u'48159', {u'loss': 0.2438071370124817, u'id': {u'sent_id': 48159, u'ref_id': 16927}}), (u'92605', {u'loss': 0.24328885972499847, u'id': {u'sent_id': 92605, u'ref_id': 32566}}), (u'70151', {u'loss': 0.23259574174880981, u'id': {u'sent_id': 70151, u'ref_id': 24683}}), (u'39862', {u'loss': 0.23207075893878937, u'id': {u'sent_id': 39862, u'ref_id': 14007}}), (u'63720', {u'loss': 0.23149794340133667, u'id': {u'sent_id': 63720, u'ref_id': 22405}}), (u'126915', {u'loss': 0.2257501780986786, u'id': {u'sent_id': 126915, u'ref_id': 44636}}), (u'105172', {u'loss': 0.2252352088689804, u'id': {u'sent_id': 105172, u'ref_id': 36979}}), (u'40073', {u'loss': 0.22453808784484863, u'id': {u'sent_id': 40073, u'ref_id': 14083}}), (u'34480', {u'loss': 0.22144527733325958, u'id': {u'sent_id': 34480, u'ref_id': 12115}}), (u'56157', {u'loss': 0.21925890445709229, u'id': {u'sent_id': 56157, u'ref_id': 19739}}), (u'14802', {u'loss': 0.21572041511535645, u'id': {u'sent_id': 14802, u'ref_id': 5196}}), (u'37335', {u'loss': 0.21446757018566132, u'id': {u'sent_id': 37335, u'ref_id': 13123}}), (u'95381', {u'loss': 0.21400338411331177, u'id': {u'sent_id': 95381, u'ref_id': 33540}}), (u'106727', {u'loss': 0.21204504370689392, u'id': {u'sent_id': 106727, u'ref_id': 37531}}), (u'51579', {u'loss': 0.21194449067115784, u'id': {u'sent_id': 51579, u'ref_id': 18134}}), (u'57773', {u'loss': 0.21094051003456116, u'id': {u'sent_id': 57773, u'ref_id': 20308}}), (u'82929', {u'loss': 0.2108898013830185, u'id': {u'sent_id': 82929, u'ref_id': 29160}}), (u'28751', {u'loss': 0.20962931215763092, u'id': {u'sent_id': 28751, u'ref_id': 10098}}), (u'102856', {u'loss': 0.2094617635011673, u'id': {u'sent_id': 102856, u'ref_id': 36159}}), (u'28265', {u'loss': 0.2073446363210678, u'id': {u'sent_id': 28265, u'ref_id': 9928}}), (u'19155', {u'loss': 0.20637117326259613, u'id': {u'sent_id': 19155, u'ref_id': 6730}}), (u'82875', {u'loss': 0.20621517300605774, u'id': {u'sent_id': 82875, u'ref_id': 29141}}), (u'45404', {u'loss': 0.20537705719470978, u'id': {u'sent_id': 45404, u'ref_id': 15956}}), (u'70941', {u'loss': 0.20504045486450195, u'id': {u'sent_id': 70941, u'ref_id': 24956}}), (u'107958', {u'loss': 0.20417238771915436, u'id': {u'sent_id': 107958, u'ref_id': 37965}}), (u'58959', {u'loss': 0.2036600410938263, u'id': {u'sent_id': 58959, u'ref_id': 20725}}), (u'57459', {u'loss': 0.20340178906917572, u'id': {u'sent_id': 57459, u'ref_id': 20198}}), (u'55780', {u'loss': 0.20216694474220276, u'id': {u'sent_id': 55780, u'ref_id': 19609}}), (u'45922', {u'loss': 0.2020162045955658, u'id': {u'sent_id': 45922, u'ref_id': 16138}}), (u'97201', {u'loss': 0.20089879631996155, u'id': {u'sent_id': 97201, u'ref_id': 34177}}), (u'97894', {u'loss': 0.2007814645767212, u'id': {u'sent_id': 97894, u'ref_id': 34420}}), (u'87255', {u'loss': 0.199924036860466, u'id': {u'sent_id': 87255, u'ref_id': 30682}}), (u'52390', {u'loss': 0.1996586173772812, u'id': {u'sent_id': 52390, u'ref_id': 18416}}), (u'21379', {u'loss': 0.19942472875118256, u'id': {u'sent_id': 21379, u'ref_id': 7506}}), (u'92107', {u'loss': 0.198763906955719, u'id': {u'sent_id': 92107, u'ref_id': 32390}}), (u'91634', {u'loss': 0.19810277223587036, u'id': {u'sent_id': 91634, u'ref_id': 32225}})])\n"
     ]
    }
   ],
   "source": [
    "import _init_paths\n",
    "from buffer.replay_buffer import Buffer\n",
    "from buffer.replay_buffer import BufferPool\n",
    "import json\n",
    "from collections import OrderedDict\n",
    "\n",
    "from refer import REFER\n",
    "a = [1,3,4]\n",
    "print(a)\n",
    "a.sort(reverse=True)\n",
    "print(a)\n",
    "\n",
    "buffer_path = '/hhd12306-2/xieshuo/lab/MAttNet/output/refcoco_unc/ma_mas_module_mean_norm_buffer_subject_wrap_20/outdoor/buffer.json'\n",
    "#buffer_pool.load(buffer_path)\n",
    "\n",
    "with open(buffer_path, 'rb') as f:\n",
    "    buffer_pool = json.load(f)\n",
    "\n",
    "buffer = buffer_pool['person']['buffer']\n",
    "buffer = OrderedDict(sorted(buffer.items(), key=lambda obj:obj[1]['loss'], reverse=True))\n",
    "print (buffer)"
   ]
  }
 ],
 "metadata": {
  "kernelspec": {
   "display_name": "Python 2",
   "language": "python",
   "name": "python2"
  },
  "language_info": {
   "codemirror_mode": {
    "name": "ipython",
    "version": 2
   },
   "file_extension": ".py",
   "mimetype": "text/x-python",
   "name": "python",
   "nbconvert_exporter": "python",
   "pygments_lexer": "ipython2",
   "version": "2.7.13"
  }
 },
 "nbformat": 4,
 "nbformat_minor": 2
}
